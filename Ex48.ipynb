{
  "nbformat": 4,
  "nbformat_minor": 0,
  "metadata": {
    "colab": {
      "provenance": [],
      "authorship_tag": "ABX9TyN2/mPPrPCu43riEK3GUy6x",
      "include_colab_link": true
    },
    "kernelspec": {
      "name": "python3",
      "display_name": "Python 3"
    },
    "language_info": {
      "name": "python"
    }
  },
  "cells": [
    {
      "cell_type": "markdown",
      "metadata": {
        "id": "view-in-github",
        "colab_type": "text"
      },
      "source": [
        "<a href=\"https://colab.research.google.com/github/nnh92/Ex48/blob/main/Ex48.ipynb\" target=\"_parent\"><img src=\"https://colab.research.google.com/assets/colab-badge.svg\" alt=\"Open In Colab\"/></a>"
      ]
    },
    {
      "cell_type": "code",
      "execution_count": 20,
      "metadata": {
        "id": "BoIXtq22VdN-",
        "colab": {
          "base_uri": "https://localhost:8080/"
        },
        "outputId": "b10ce634-8e2e-47c8-f300-ba5fcb1b8369"
      },
      "outputs": [
        {
          "output_type": "stream",
          "name": "stdout",
          "text": [
            "Nhap chu so n = 7416df\n",
            "Dinh dang dau vao khong hop le\n"
          ]
        }
      ],
      "source": [
        "def LocChanLe(n):\n",
        "  lst_Chan = []\n",
        "  lst_Le = []\n",
        "  while n > 0:\n",
        "    i = n%10\n",
        "    if i%2 == 0:\n",
        "      lst_Chan.append(i)\n",
        "    else:\n",
        "      lst_Le.append(i)\n",
        "    n = n//10\n",
        "  return lst_Chan, lst_Le\n",
        "\n",
        "def TichChanle(lst_Chan, lst_Le):\n",
        "  Tong_Chan = 0\n",
        "  Tong_Le = 0\n",
        "  for i in range(len(lst_Chan)):\n",
        "    Tong_Chan += lst_Chan[i]\n",
        "  for i in range(len(lst_Le)):\n",
        "    Tong_Le += lst_Le[i]\n",
        "  return Tong_Chan * Tong_Le\n",
        "\n",
        "try:\n",
        "  n = int(input('Nhap chu so n = '))\n",
        "\n",
        "  KQ = TichChanle(LocChanLe(n)[0], LocChanLe(n)[1])\n",
        "\n",
        "  print(KQ)\n",
        "\n",
        "except:\n",
        "  print('Dinh dang dau vao khong hop le')\n"
      ]
    }
  ]
}