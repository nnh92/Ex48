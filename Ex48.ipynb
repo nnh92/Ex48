{
  "nbformat": 4,
  "nbformat_minor": 0,
  "metadata": {
    "colab": {
      "provenance": [],
      "authorship_tag": "ABX9TyM4+Lv4XpicXOocJCL0STH4",
      "include_colab_link": true
    },
    "kernelspec": {
      "name": "python3",
      "display_name": "Python 3"
    },
    "language_info": {
      "name": "python"
    }
  },
  "cells": [
    {
      "cell_type": "markdown",
      "metadata": {
        "id": "view-in-github",
        "colab_type": "text"
      },
      "source": [
        "<a href=\"https://colab.research.google.com/github/nnh92/Ex48/blob/main/Ex48.ipynb\" target=\"_parent\"><img src=\"https://colab.research.google.com/assets/colab-badge.svg\" alt=\"Open In Colab\"/></a>"
      ]
    },
    {
      "cell_type": "code",
      "execution_count": 19,
      "metadata": {
        "id": "BoIXtq22VdN-",
        "colab": {
          "base_uri": "https://localhost:8080/"
        },
        "outputId": "419351b5-a0b8-4091-e6cb-e60084ce07ae"
      },
      "outputs": [
        {
          "output_type": "stream",
          "name": "stdout",
          "text": [
            "Nhap chu so n = 164768\n",
            "192\n"
          ]
        }
      ],
      "source": [
        "def LocChanLe(n):\n",
        "  lst_Chan = []\n",
        "  lst_Le = []\n",
        "  while n > 0:\n",
        "    i = n%10\n",
        "    if i%2 == 0:\n",
        "      lst_Chan.append(i)\n",
        "    else:\n",
        "      lst_Le.append(i)\n",
        "    n = n//10\n",
        "  return lst_Chan, lst_Le\n",
        "\n",
        "def TichChanle(lst_Chan, lst_Le):\n",
        "  Tong_Chan = 0\n",
        "  Tong_Le = 0\n",
        "  for i in range(len(lst_Chan)):\n",
        "    Tong_Chan += lst_Chan[i]\n",
        "  for i in range(len(lst_Le)):\n",
        "    Tong_Le += lst_Le[i]\n",
        "  return Tong_Chan * Tong_Le\n",
        "\n",
        "n = int(input('Nhap chu so n = '))\n",
        "\n",
        "KQ = TichChanle(LocChanLe(n)[0], LocChanLe(n)[1])\n",
        "\n",
        "print(KQ)\n"
      ]
    }
  ]
}