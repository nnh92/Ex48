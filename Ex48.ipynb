{
  "nbformat": 4,
  "nbformat_minor": 0,
  "metadata": {
    "colab": {
      "provenance": [],
      "authorship_tag": "ABX9TyMf/O+E40EMcBGVuMNCNHD0",
      "include_colab_link": true
    },
    "kernelspec": {
      "name": "python3",
      "display_name": "Python 3"
    },
    "language_info": {
      "name": "python"
    }
  },
  "cells": [
    {
      "cell_type": "markdown",
      "metadata": {
        "id": "view-in-github",
        "colab_type": "text"
      },
      "source": [
        "<a href=\"https://colab.research.google.com/github/nnh92/Ex48/blob/main/Ex48.ipynb\" target=\"_parent\"><img src=\"https://colab.research.google.com/assets/colab-badge.svg\" alt=\"Open In Colab\"/></a>"
      ]
    },
    {
      "cell_type": "code",
      "execution_count": null,
      "metadata": {
        "id": "BoIXtq22VdN-"
      },
      "outputs": [],
      "source": [
        "def Tong(n):\n",
        "  i = 0\n",
        "  lst_chan = []\n",
        "  lst_le = []\n",
        "\n",
        "def Tinh(n):\n",
        "  lst_chan = []\n",
        "  lst_le = []\n",
        "  while i > 0:\n",
        "    i = n%10\n",
        "    if i%2\n",
        "    lst_chan.append()\n",
        "    i//10\n",
        " \n",
        " def Locso(n):\n",
        "   if n%2 == 0:\n",
        "     return lst_chan\n",
        "    else return lst_le\n",
        "\n",
        "\n",
        "\n",
        "\n",
        "i = int(input('Nhap chu so n = '))\n",
        "\n",
        "\n",
        "\n"
      ]
    }
  ]
}